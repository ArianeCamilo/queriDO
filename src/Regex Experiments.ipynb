{
 "cells": [
  {
   "cell_type": "code",
   "execution_count": 27,
   "metadata": {
    "collapsed": true
   },
   "outputs": [],
   "source": [
    "from bs4 import BeautifulSoup\n",
    "import re"
   ]
  },
  {
   "cell_type": "code",
   "execution_count": 28,
   "metadata": {
    "collapsed": false
   },
   "outputs": [],
   "source": [
    "def markdown(html, regexes):\n",
    "    # - html is the HTML documents to be marked\n",
    "    # - regexes is a dictionary of labels and regular expressions.\n",
    "    for classname, regex in regexes.items():        \n",
    "        pattern = re.compile(regex)\n",
    "        soup = BeautifulSoup(html, 'html5lib')\n",
    "        for string in soup.strings:\n",
    "            print(repr(string))\n",
    "            if re.search(pattern, repr(string)):\n",
    "                # class is a reserved word in Python, so we need to do some hacking here in order to enter it as a parameter.\n",
    "                string.wrap(soup.new_tag('div', **{'class':classname}))\n",
    "    return soup.prettify()"
   ]
  },
  {
   "cell_type": "code",
   "execution_count": 3,
   "metadata": {
    "collapsed": true
   },
   "outputs": [],
   "source": [
    "html = '<html><meta charset=\"UTF-8\"/>Secretaria Municipal do Habitat<p class=\"MsoTitle\">Secretaria Municipal de Habitação</p> \\\n",
    "        <p align=\"center\" class=\"MsoNormal\"><b>Extrato de Instrumento</b></p><p class=\"MsoNormal\"> \\\n",
    "        <u>PROCESSO</u>:16/001. 083/2010</p><p class=\"MsoNormal\"><u>TERMO ADITIVO</u>:003/2013 ao Contrato 034/2012</p> \\\n",
    "        <p class=\"MsoNormal\"><u>DATA:</u>30/01/2013</p><p class=\"MsoNormal\"><u>PARTES:</u> \\\n",
    "        SMH/ CONCREMAT ENGENHARIA E TECNOLOGIA S/A</p><p class=\"MsoNormal\"><u>OBJETO:</u> \\\n",
    "        Readequação das planilhas orçamentárias, sem acréscimo de valor, em 6,61% (seis virgula sessenta e um por cento), \\\n",
    "        seguindo as informações da fiscalização de fls. 1061/1062, nos termos do art. 65, I, b. e §1º da Lei 8.666/93.</p> \\\n",
    "        <p class=\"MsoNormal\">Readequação do cronograma físico-financeiro, de acordo com a planilha acostada as fls. 1060.</p> \\\n",
    "        <p class=\"MsoBodyTextIndent\"><u>FUNDAMENTO:</u>art.65, I , “b” e §1º da Lei 8.666/93.</p></html>'"
   ]
  },
  {
   "cell_type": "code",
   "execution_count": 29,
   "metadata": {
    "collapsed": false
   },
   "outputs": [
    {
     "name": "stdout",
     "output_type": "stream",
     "text": [
      "'Secretaria Municipal do Habitat'\n",
      "'Secretaria Municipal de Habitação'\n",
      "'         '\n",
      "'Extrato de Instrumento'\n",
      "'         '\n",
      "'PROCESSO'\n",
      "':16/001. 083/2010'\n",
      "'TERMO ADITIVO'\n",
      "':003/2013 ao Contrato 034/2012'\n",
      "'         '\n",
      "'DATA:'\n",
      "'30/01/2013'\n",
      "'PARTES:'\n",
      "'         SMH/ CONCREMAT ENGENHARIA E TECNOLOGIA S/A'\n",
      "'OBJETO:'\n",
      "'         Readequação das planilhas orçamentárias, sem acréscimo de valor, em 6,61% (seis virgula sessenta e um por cento),         seguindo as informações da fiscalização de fls. 1061/1062, nos termos do art. 65, I, b. e §1º da Lei 8.666/93.'\n",
      "'         '\n",
      "'Readequação do cronograma físico-financeiro, de acordo com a planilha acostada as fls. 1060.'\n",
      "'         '\n",
      "'FUNDAMENTO:'\n",
      "'art.65, I , “b” e §1º da Lei 8.666/93.'\n"
     ]
    }
   ],
   "source": [
    "regexes = {'address':'Instrumento'}\n",
    "return_html = markdown(html, regexes)"
   ]
  },
  {
   "cell_type": "code",
   "execution_count": 30,
   "metadata": {
    "collapsed": false
   },
   "outputs": [
    {
     "name": "stdout",
     "output_type": "stream",
     "text": [
      "<html>\n",
      " <head>\n",
      "  <meta charset=\"utf-8\"/>\n",
      " </head>\n",
      " <body>\n",
      "  Secretaria Municipal do Habitat\n",
      "  <p class=\"MsoTitle\">\n",
      "   Secretaria Municipal de Habitação\n",
      "  </p>\n",
      "  <p align=\"center\" class=\"MsoNormal\">\n",
      "   <b>\n",
      "    <div class=\"address\">\n",
      "     Extrato de Instrumento\n",
      "    </div>\n",
      "   </b>\n",
      "  </p>\n",
      "  <p class=\"MsoNormal\">\n",
      "   <u>\n",
      "    PROCESSO\n",
      "   </u>\n",
      "   :16/001. 083/2010\n",
      "  </p>\n",
      "  <p class=\"MsoNormal\">\n",
      "   <u>\n",
      "    TERMO ADITIVO\n",
      "   </u>\n",
      "   :003/2013 ao Contrato 034/2012\n",
      "  </p>\n",
      "  <p class=\"MsoNormal\">\n",
      "   <u>\n",
      "    DATA:\n",
      "   </u>\n",
      "   30/01/2013\n",
      "  </p>\n",
      "  <p class=\"MsoNormal\">\n",
      "   <u>\n",
      "    PARTES:\n",
      "   </u>\n",
      "   SMH/ CONCREMAT ENGENHARIA E TECNOLOGIA S/A\n",
      "  </p>\n",
      "  <p class=\"MsoNormal\">\n",
      "   <u>\n",
      "    OBJETO:\n",
      "   </u>\n",
      "   Readequação das planilhas orçamentárias, sem acréscimo de valor, em 6,61% (seis virgula sessenta e um por cento),         seguindo as informações da fiscalização de fls. 1061/1062, nos termos do art. 65, I, b. e §1º da Lei 8.666/93.\n",
      "  </p>\n",
      "  <p class=\"MsoNormal\">\n",
      "   Readequação do cronograma físico-financeiro, de acordo com a planilha acostada as fls. 1060.\n",
      "  </p>\n",
      "  <p class=\"MsoBodyTextIndent\">\n",
      "   <u>\n",
      "    FUNDAMENTO:\n",
      "   </u>\n",
      "   art.65, I , “b” e §1º da Lei 8.666/93.\n",
      "  </p>\n",
      " </body>\n",
      "</html>\n"
     ]
    }
   ],
   "source": [
    "print(return_html)"
   ]
  },
  {
   "cell_type": "code",
   "execution_count": null,
   "metadata": {
    "collapsed": true
   },
   "outputs": [],
   "source": []
  }
 ],
 "metadata": {
  "anaconda-cloud": {},
  "kernelspec": {
   "display_name": "Python [conda env:py35]",
   "language": "python",
   "name": "conda-env-py35-py"
  },
  "language_info": {
   "codemirror_mode": {
    "name": "ipython",
    "version": 3
   },
   "file_extension": ".py",
   "mimetype": "text/x-python",
   "name": "python",
   "nbconvert_exporter": "python",
   "pygments_lexer": "ipython3",
   "version": "3.5.2"
  }
 },
 "nbformat": 4,
 "nbformat_minor": 1
}
