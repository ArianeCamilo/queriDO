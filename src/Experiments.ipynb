{
 "cells": [
  {
   "cell_type": "code",
   "execution_count": null,
   "metadata": {
    "collapsed": true
   },
   "outputs": [],
   "source": [
    "# importing modules\n",
    "import requests\n",
    "import csv\n",
    "import io\n",
    "from tools import read_hostile_text\n",
    "\n",
    "# templates\n",
    "htmParam    = 'http://doweb.rio.rj.gov.br/do/navegadorhtml/' \\\n",
    "              'load_tree.php?edi_id={0}'\n",
    "    \n",
    "lnkParam    = 'http://doweb.rio.rj.gov.br/do/navegadorhtml/' \\\n",
    "              'mostrar.htm?id={0}&edi_id={1}'\n",
    "\n",
    "\n",
    "\n",
    "# First we will walk through all alvailable editions in a given range.\n",
    "for edi in range(1974,1770,-1):\n",
    "\n",
    "    ediParam    = edi\n",
    "    # Keep a dictionary of folders and documents\n",
    "    folders     = []\n",
    "    materias    = []\n",
    "\n",
    "    # http response\n",
    "    response    = requests.get(htmParam.format(ediParam))\n",
    "    soup        = BeautifulSoup(response.content, 'html.parser')\n",
    "\n",
    " "
   ]
  }
 ],
 "metadata": {
  "anaconda-cloud": {},
  "kernelspec": {
   "display_name": "Python [conda env:py35]",
   "language": "python",
   "name": "conda-env-py35-py"
  },
  "language_info": {
   "codemirror_mode": {
    "name": "ipython",
    "version": 3
   },
   "file_extension": ".py",
   "mimetype": "text/x-python",
   "name": "python",
   "nbconvert_exporter": "python",
   "pygments_lexer": "ipython3",
   "version": "3.5.2"
  }
 },
 "nbformat": 4,
 "nbformat_minor": 1
}
